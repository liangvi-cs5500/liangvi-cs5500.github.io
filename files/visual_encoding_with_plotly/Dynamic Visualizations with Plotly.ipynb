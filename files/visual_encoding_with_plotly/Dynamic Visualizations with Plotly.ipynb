{
 "cells": [
  {
   "cell_type": "code",
   "execution_count": 6,
   "metadata": {},
   "outputs": [],
   "source": [
    "import plotly as py\n",
    "import plotly.graph_objs as go\n",
    "import pandas as pd\n",
    "\n",
    "from datetime import datetime"
   ]
  },
  {
   "cell_type": "code",
   "execution_count": 7,
   "metadata": {},
   "outputs": [],
   "source": [
    "data = pd.read_csv('prices.csv')"
   ]
  },
  {
   "cell_type": "code",
   "execution_count": 8,
   "metadata": {},
   "outputs": [
    {
     "data": {
      "text/html": [
       "<div>\n",
       "<style scoped>\n",
       "    .dataframe tbody tr th:only-of-type {\n",
       "        vertical-align: middle;\n",
       "    }\n",
       "\n",
       "    .dataframe tbody tr th {\n",
       "        vertical-align: top;\n",
       "    }\n",
       "\n",
       "    .dataframe thead th {\n",
       "        text-align: right;\n",
       "    }\n",
       "</style>\n",
       "<table border=\"1\" class=\"dataframe\">\n",
       "  <thead>\n",
       "    <tr style=\"text-align: right;\">\n",
       "      <th></th>\n",
       "      <th>date</th>\n",
       "      <th>symbol</th>\n",
       "      <th>open</th>\n",
       "      <th>close</th>\n",
       "      <th>low</th>\n",
       "      <th>high</th>\n",
       "      <th>volume</th>\n",
       "    </tr>\n",
       "  </thead>\n",
       "  <tbody>\n",
       "    <tr>\n",
       "      <th>0</th>\n",
       "      <td>2016-01-05 00:00:00</td>\n",
       "      <td>WLTW</td>\n",
       "      <td>123.430000</td>\n",
       "      <td>125.839996</td>\n",
       "      <td>122.309998</td>\n",
       "      <td>126.250000</td>\n",
       "      <td>2163600.0</td>\n",
       "    </tr>\n",
       "    <tr>\n",
       "      <th>1</th>\n",
       "      <td>2016-01-06 00:00:00</td>\n",
       "      <td>WLTW</td>\n",
       "      <td>125.239998</td>\n",
       "      <td>119.980003</td>\n",
       "      <td>119.940002</td>\n",
       "      <td>125.540001</td>\n",
       "      <td>2386400.0</td>\n",
       "    </tr>\n",
       "    <tr>\n",
       "      <th>2</th>\n",
       "      <td>2016-01-07 00:00:00</td>\n",
       "      <td>WLTW</td>\n",
       "      <td>116.379997</td>\n",
       "      <td>114.949997</td>\n",
       "      <td>114.930000</td>\n",
       "      <td>119.739998</td>\n",
       "      <td>2489500.0</td>\n",
       "    </tr>\n",
       "    <tr>\n",
       "      <th>3</th>\n",
       "      <td>2016-01-08 00:00:00</td>\n",
       "      <td>WLTW</td>\n",
       "      <td>115.480003</td>\n",
       "      <td>116.620003</td>\n",
       "      <td>113.500000</td>\n",
       "      <td>117.440002</td>\n",
       "      <td>2006300.0</td>\n",
       "    </tr>\n",
       "    <tr>\n",
       "      <th>4</th>\n",
       "      <td>2016-01-11 00:00:00</td>\n",
       "      <td>WLTW</td>\n",
       "      <td>117.010002</td>\n",
       "      <td>114.970001</td>\n",
       "      <td>114.089996</td>\n",
       "      <td>117.330002</td>\n",
       "      <td>1408600.0</td>\n",
       "    </tr>\n",
       "  </tbody>\n",
       "</table>\n",
       "</div>"
      ],
      "text/plain": [
       "                  date symbol        open       close         low        high  \\\n",
       "0  2016-01-05 00:00:00   WLTW  123.430000  125.839996  122.309998  126.250000   \n",
       "1  2016-01-06 00:00:00   WLTW  125.239998  119.980003  119.940002  125.540001   \n",
       "2  2016-01-07 00:00:00   WLTW  116.379997  114.949997  114.930000  119.739998   \n",
       "3  2016-01-08 00:00:00   WLTW  115.480003  116.620003  113.500000  117.440002   \n",
       "4  2016-01-11 00:00:00   WLTW  117.010002  114.970001  114.089996  117.330002   \n",
       "\n",
       "      volume  \n",
       "0  2163600.0  \n",
       "1  2386400.0  \n",
       "2  2489500.0  \n",
       "3  2006300.0  \n",
       "4  1408600.0  "
      ]
     },
     "execution_count": 8,
     "metadata": {},
     "output_type": "execute_result"
    }
   ],
   "source": [
    "data.head()"
   ]
  },
  {
   "cell_type": "markdown",
   "metadata": {},
   "source": [
    "Date: Quantitative Value <br>\n",
    "Symbol: Categorical Value<br>\n",
    "Open: Quantitative Value<br>\n",
    "Close: Quantitative Value<br>\n",
    "Low: Quantitative Value<br>\n",
    "High: Quantitative Value<br>\n",
    "Volume: Quantitative Value<br>\n",
    "<br>\n",
    "Key: can a combination of date and symbol"
   ]
  },
  {
   "cell_type": "markdown",
   "metadata": {},
   "source": [
    "## Question"
   ]
  },
  {
   "cell_type": "markdown",
   "metadata": {},
   "source": [
    "How did the WLTW perform over this year?"
   ]
  },
  {
   "cell_type": "markdown",
   "metadata": {},
   "source": [
    "## Task Abstraction"
   ]
  },
  {
   "cell_type": "markdown",
   "metadata": {},
   "source": [
    "What is the trend of the open, close, high or low values for symbol \"WLTW\" over this year long period? "
   ]
  },
  {
   "cell_type": "code",
   "execution_count": 9,
   "metadata": {},
   "outputs": [],
   "source": [
    "wltw_data = data[data.symbol == 'WLTW']"
   ]
  },
  {
   "cell_type": "code",
   "execution_count": 10,
   "metadata": {},
   "outputs": [
    {
     "data": {
      "text/plain": [
       "(251, 7)"
      ]
     },
     "execution_count": 10,
     "metadata": {},
     "output_type": "execute_result"
    }
   ],
   "source": [
    "wltw_data.shape"
   ]
  },
  {
   "cell_type": "markdown",
   "metadata": {},
   "source": [
    "## Visualization 1 Line Chart"
   ]
  },
  {
   "cell_type": "code",
   "execution_count": 11,
   "metadata": {},
   "outputs": [
    {
     "ename": "AttributeError",
     "evalue": "module 'plotly.plotly' has no attribute 'offline'",
     "output_type": "error",
     "traceback": [
      "\u001b[1;31m---------------------------------------------------------------------------\u001b[0m",
      "\u001b[1;31mAttributeError\u001b[0m                            Traceback (most recent call last)",
      "\u001b[1;32m<ipython-input-11-e34fd851269a>\u001b[0m in \u001b[0;36m<module>\u001b[1;34m()\u001b[0m\n\u001b[0;32m     33\u001b[0m \u001b[1;33m\u001b[0m\u001b[0m\n\u001b[0;32m     34\u001b[0m \u001b[0mwltw_line_fig\u001b[0m \u001b[1;33m=\u001b[0m \u001b[0mdict\u001b[0m\u001b[1;33m(\u001b[0m\u001b[0mdata\u001b[0m\u001b[1;33m=\u001b[0m\u001b[0mwltw_line_trace\u001b[0m\u001b[1;33m,\u001b[0m \u001b[0mlayout\u001b[0m\u001b[1;33m=\u001b[0m\u001b[0mwltw_layout\u001b[0m\u001b[1;33m)\u001b[0m\u001b[1;33m\u001b[0m\u001b[0m\n\u001b[1;32m---> 35\u001b[1;33m \u001b[0mpy\u001b[0m\u001b[1;33m.\u001b[0m\u001b[0moffline\u001b[0m\u001b[1;33m.\u001b[0m\u001b[0miplot\u001b[0m\u001b[1;33m(\u001b[0m\u001b[0mwltw_line_fig\u001b[0m\u001b[1;33m,\u001b[0m \u001b[0mfilename\u001b[0m\u001b[1;33m=\u001b[0m\u001b[1;34m'WLTW_nyse_prices_line'\u001b[0m\u001b[1;33m)\u001b[0m\u001b[1;33m\u001b[0m\u001b[0m\n\u001b[0m",
      "\u001b[1;31mAttributeError\u001b[0m: module 'plotly.plotly' has no attribute 'offline'"
     ]
    }
   ],
   "source": [
    "wltw_line_close = go.Scatter(\n",
    "    x = wltw_data['date'],\n",
    "    y = wltw_data['close'],\n",
    "    name = 'Close',\n",
    "    mode = 'markers'\n",
    ")\n",
    "wltw_line_open = go.Scatter(\n",
    "    x = wltw_data['date'],\n",
    "    y = wltw_data['open'],\n",
    "    name = 'Open',\n",
    "    mode = 'markers'\n",
    ")\n",
    "\n",
    "wltw_line_high = go.Scatter(\n",
    "    x = wltw_data['date'],\n",
    "    y = wltw_data['high'],\n",
    "    name = 'High'\n",
    ")\n",
    "\n",
    "wltw_line_low = go.Scatter(\n",
    "    x = wltw_data['date'],\n",
    "    y = wltw_data['low'],\n",
    "    name = 'Low',\n",
    "    fill='tonexty',\n",
    "    fillcolor='rgba(0,100,80,0.2)'\n",
    ")\n",
    "wltw_line_trace = [wltw_line_close, wltw_line_open, wltw_line_high, wltw_line_low]\n",
    "wltw_layout = {\n",
    "    'title': 'NYSE - WLTW Performace',\n",
    "    'yaxis': {'title': 'Stock Value'},\n",
    "    'xaxis': {'title': 'Date'}\n",
    "}\n",
    "\n",
    "wltw_line_fig = dict(data=wltw_line_trace, layout=wltw_layout)\n",
    "py.offline.iplot(wltw_line_fig, filename='WLTW_nyse_prices_line')"
   ]
  },
  {
   "cell_type": "markdown",
   "metadata": {},
   "source": [
    "The goal is to encode the open, and close values in a way to present the trend of these values over a period of the time. The horizontal channel is reserved for the date time series. Both the high and low values are encoded into line marks. An area mark between the high and low values to represent the range of the stock value through out the day. The open and closed values are simply represented by point marks, which is fitting because these are just momentary price points on a given day. Color channel are used to differ between the different data values shown here.\n",
    "There are hover annotation that display exactly values at that particular date.\n",
    "This visualization is useful for displaying the range of the stock on that day as well the trend over the years. This trend gives the user an idea the perfor"
   ]
  },
  {
   "cell_type": "markdown",
   "metadata": {},
   "source": [
    "## Visualization 2 OHLC Graph"
   ]
  },
  {
   "cell_type": "code",
   "execution_count": null,
   "metadata": {},
   "outputs": [],
   "source": [
    "wltw_trace = go.Ohlc(x=wltw_data['date'],\n",
    "                open=wltw_data['open'],\n",
    "                high=wltw_data['high'],\n",
    "                low=wltw_data['low'],\n",
    "                close=wltw_data['close'])\n",
    "wltw_trace_data = [wltw_trace]\n",
    "wltw_layout = {\n",
    "    'title': 'NYSE - WLTW Performace',\n",
    "    'yaxis': {'title': 'Stock Value'},\n",
    "    'xaxis': {'title': 'Date'}\n",
    "}\n",
    "wltw_ohlc_fig = dict(data=wltw_trace_data, layout=wltw_layout)\n",
    "py.offline.iplot(wltw_ohlc_fig, filename='WLTW_nyse_prices_ohlc')"
   ]
  },
  {
   "cell_type": "markdown",
   "metadata": {},
   "source": [
    "The horizontal channel is reserved for the date time series. Line marks are used to show the difference between high and low prices for that date. Additional line marks are added to the side to show the open and close value. Color channel is used to differ between a gain or a lost in the day. Green is used when the open value is lower than the close value of that day, representing a gain. And red is used for the reverse where the open value is higher than the close value of the day, signifying a lost. This is important for the user to judge the performance of that stock. \n",
    "At the bottom of the chart, there is a rangefinder shows you to zoom and pan through different ranges of time. An issue with this plot it is very hard to see some of the smaller open and close lines. So zooming in helps see the marks easier. Hovering also displays the open, close, high, and low values. Also hover annotations add more \n",
    "This visualization is useful for displaying the various information that a user would need to judge the performance of the WLTW stock. The line marks are especially made to be able to encode four values at once. All together they can be sure by a domain user to see if the volality of a stock based on high and low prices and as well as its overall shift in value that day through the open and close prices."
   ]
  }
 ],
 "metadata": {
  "kernelspec": {
   "display_name": "Python 3",
   "language": "python",
   "name": "python3"
  }
 },
 "nbformat": 4,
 "nbformat_minor": 2
}
